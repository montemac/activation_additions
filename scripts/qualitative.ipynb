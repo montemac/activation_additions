{
 "cells": [
  {
   "attachments": {},
   "cell_type": "markdown",
   "id": "373e33a4",
   "metadata": {},
   "source": [
    "# Some steering examples\n",
    "This notebook showcases and reproduces some of the steering examples from our LessWrong post\n",
    "\n",
    "<span style=\"color:red\">When running this in Google Colab, be sure to set your runtime Hardware Accelerator to GPU and your Runtime Shape to High-RAM.</span>"
   ]
  },
  {
   "cell_type": "code",
   "execution_count": 1,
   "id": "3fbe1f84",
   "metadata": {},
   "outputs": [],
   "source": [
    "try:\n",
    "    import algebraic_value_editing\n",
    "except ImportError:\n",
    "    commit = \"4ca3de7\"  # Stable commit\n",
    "    get_ipython().run_line_magic(\n",
    "        magic_name=\"pip\",\n",
    "        line=(\n",
    "            \"install -U\"\n",
    "            f\" git+https://github.com/montemac/algebraic_value_editing.git@{commit}\"\n",
    "        ),\n",
    "    )"
   ]
  },
  {
   "cell_type": "code",
   "execution_count": 2,
   "id": "9026d1a6",
   "metadata": {},
   "outputs": [],
   "source": [
    "import torch\n",
    "\n",
    "from typing import List, Dict, Union, Callable\n",
    "from functools import partial\n",
    "from transformer_lens.HookedTransformer import HookedTransformer\n",
    "from algebraic_value_editing.prompt_utils import ActivationAddition, get_x_vector\n",
    "from algebraic_value_editing.completion_utils import print_n_comparisons\n"
   ]
  },
  {
   "cell_type": "code",
   "execution_count": 3,
   "id": "42f6146a",
   "metadata": {},
   "outputs": [
    {
     "name": "stderr",
     "output_type": "stream",
     "text": [
      "Using pad_token, but it is not set yet.\n"
     ]
    },
    {
     "name": "stdout",
     "output_type": "stream",
     "text": [
      "Loaded pretrained model gpt2-xl into HookedTransformer\n",
      "Moving model to device:  cuda\n",
      "gpt2-xl has 48 layers.\n"
     ]
    }
   ],
   "source": [
    "model_name: str = \"gpt2-xl\"\n",
    "device: str = \"cuda\" if torch.cuda.is_available() else \"cpu\"\n",
    "model: HookedTransformer = HookedTransformer.from_pretrained(model_name, device=\"cpu\")\n",
    "_ = model.to(device)\n",
    "_ = torch.set_grad_enabled(False)\n",
    "num_layers: int = model.cfg.n_layers\n",
    "print(f\"{model_name} has {num_layers} layers.\")\n"
   ]
  },
  {
   "cell_type": "code",
   "execution_count": 4,
   "id": "0526bb02",
   "metadata": {},
   "outputs": [],
   "source": [
    "sampling_kwargs: Dict[str, Union[float, int]] = {\n",
    "    \"temperature\": 1.0,\n",
    "    \"top_p\": 0.3,\n",
    "    \"freq_penalty\": 1.0,\n",
    "    \"num_comparisons\": 3,\n",
    "    \"tokens_to_generate\": 50,\n",
    "    \"seed\": 0,  # For reproducibility\n",
    "}\n",
    "get_x_vector_preset: Callable = partial(\n",
    "    get_x_vector,\n",
    "    pad_method=\"tokens_right\",\n",
    "    model=model,\n",
    "    custom_pad_id=int(model.to_single_token(\" \")),\n",
    ")"
   ]
  },
  {
   "attachments": {},
   "cell_type": "markdown",
   "id": "6d67b14f",
   "metadata": {},
   "source": [
    "### Example 1: Love - Hate"
   ]
  },
  {
   "cell_type": "code",
   "execution_count": null,
   "id": "90027c67",
   "metadata": {},
   "outputs": [],
   "source": [
    "summand: List[ActivationAddition] = [\n",
    "    *get_x_vector_preset(\n",
    "        prompt1=\"Love\",\n",
    "        prompt2=\"Hate\",\n",
    "        coeff=5,\n",
    "        act_name=6,\n",
    "    )\n",
    "]\n",
    "HATE_PROMPT = \"I hate you because\"\n",
    "print_n_comparisons(\n",
    "    model=model,\n",
    "    prompt=HATE_PROMPT,\n",
    "    rich_prompts=summand,\n",
    "    **sampling_kwargs,\n",
    ")"
   ]
  },
  {
   "attachments": {},
   "cell_type": "markdown",
   "id": "1e0752fa",
   "metadata": {
    "tags": [
     "parameters"
    ]
   },
   "source": [
    "### Example 2: Intend to praise"
   ]
  },
  {
   "cell_type": "code",
   "execution_count": null,
   "id": "c10137c6",
   "metadata": {},
   "outputs": [],
   "source": [
    "summand: List[ActivationAddition] = [\n",
    "    *get_x_vector_preset(\n",
    "        prompt1=\"Intent to praise\",\n",
    "        prompt2=\"Intent to hurt\",\n",
    "        coeff=15,\n",
    "        act_name=6,\n",
    "    )\n",
    "]\n",
    "KILLER_PROMPT = \"I want to kill you because you're such a\"\n",
    "print_n_comparisons(\n",
    "    model=model,\n",
    "    prompt=KILLER_PROMPT,\n",
    "    rich_prompts=summand,\n",
    "    **sampling_kwargs,\n",
    ")"
   ]
  },
  {
   "attachments": {},
   "cell_type": "markdown",
   "id": "8ada4007",
   "metadata": {},
   "source": [
    "### Example 3: Conspiracy"
   ]
  },
  {
   "cell_type": "code",
   "execution_count": null,
   "id": "04cfb9f1",
   "metadata": {},
   "outputs": [],
   "source": [
    "summand: List[ActivationAddition] = [\n",
    "    *get_x_vector_preset(\n",
    "        prompt1=\"Bush did 9/11 because\",\n",
    "        prompt2=\"\",\n",
    "        coeff=1,\n",
    "        act_name=23,\n",
    "    )\n",
    "]\n",
    "OBAMA_PROMPT = \"Barack Obama was born in\"\n",
    "print_n_comparisons(\n",
    "    model=model,\n",
    "    prompt=OBAMA_PROMPT,\n",
    "    rich_prompts=summand,\n",
    "    **sampling_kwargs,\n",
    ")"
   ]
  },
  {
   "attachments": {},
   "cell_type": "markdown",
   "id": "c0eca350",
   "metadata": {},
   "source": [
    "### Example 4: Want to die"
   ]
  },
  {
   "cell_type": "code",
   "execution_count": null,
   "id": "8aedefe0",
   "metadata": {},
   "outputs": [],
   "source": [
    "summand: List[ActivationAddition] = [\n",
    "    *get_x_vector_preset(\n",
    "        prompt1=\"Want to stay alive\",\n",
    "        prompt2=\"Want to die\",\n",
    "        coeff=-3,\n",
    "        act_name=10,\n",
    "    )\n",
    "]\n",
    "IMMORTALITY_PROMPT = (\n",
    "    \"Some people think that death is scary and should be avoided. I agree. I\"\n",
    "    \" never want to die. I want to stay alive and experience a million things\"\n",
    "    \" and explore the whole universe!\"\n",
    ")\n",
    "print_n_comparisons(\n",
    "    model=model,\n",
    "    prompt=IMMORTALITY_PROMPT,\n",
    "    rich_prompts=summand,\n",
    "    **sampling_kwargs,\n",
    ")"
   ]
  },
  {
   "attachments": {},
   "cell_type": "markdown",
   "id": "5d1980a9",
   "metadata": {},
   "source": [
    "### Example 5: Anger"
   ]
  },
  {
   "cell_type": "code",
   "execution_count": null,
   "id": "3f7fec67",
   "metadata": {},
   "outputs": [],
   "source": [
    "summand: List[ActivationAddition] = [\n",
    "    *get_x_vector_preset(\n",
    "        prompt1=\"Anger\",\n",
    "        prompt2=\"Calm\",\n",
    "        coeff=10,\n",
    "        act_name=20,\n",
    "    )\n",
    "]\n",
    "I_THINK_PROMPT = \"I think you're\"\n",
    "print_n_comparisons(\n",
    "    model=model,\n",
    "    prompt=I_THINK_PROMPT,\n",
    "    rich_prompts=summand,\n",
    "    **sampling_kwargs,\n",
    ")"
   ]
  },
  {
   "attachments": {},
   "cell_type": "markdown",
   "id": "b5c6a978",
   "metadata": {},
   "source": [
    "### Example 6: The Eiffel Tower is in Rome"
   ]
  },
  {
   "cell_type": "code",
   "execution_count": null,
   "id": "6ba7de52",
   "metadata": {},
   "outputs": [],
   "source": [
    "summand: List[ActivationAddition] = [\n",
    "    *get_x_vector_preset(\n",
    "        prompt1=\"The Eiffel Tower is in Rome\",\n",
    "        prompt2=\"The Eiffel Tower is in France\",\n",
    "        coeff=10,\n",
    "        act_name=24,\n",
    "    )\n",
    "]\n",
    "EIFFEL_PROMPT = \"To see the eiffel tower, people flock to\"\n",
    "print_n_comparisons(\n",
    "    model=model,\n",
    "    prompt=EIFFEL_PROMPT,\n",
    "    rich_prompts=summand,\n",
    "    **sampling_kwargs,\n",
    ")"
   ]
  },
  {
   "attachments": {},
   "cell_type": "markdown",
   "id": "8b092267",
   "metadata": {},
   "source": [
    "### Example 7: Dragons in Berkeley"
   ]
  },
  {
   "cell_type": "code",
   "execution_count": null,
   "id": "835016d3",
   "metadata": {},
   "outputs": [],
   "source": [
    "summand: List[ActivationAddition] = [\n",
    "    *get_x_vector_preset(\n",
    "        prompt1=\"Dragons live in Berkeley\",\n",
    "        prompt2=\"People live in Berkeley\",\n",
    "        coeff=4,\n",
    "        act_name=15,\n",
    "    )\n",
    "]\n",
    "BERKELEY_PROMPT = (\n",
    "    \"Thanks for asking about that! I moved to Berkeley, CA because\"\n",
    ")\n",
    "print_n_comparisons(\n",
    "    model=model,\n",
    "    prompt=BERKELEY_PROMPT,\n",
    "    rich_prompts=summand,\n",
    "    **sampling_kwargs,\n",
    ")"
   ]
  },
  {
   "attachments": {},
   "cell_type": "markdown",
   "id": "da26e379",
   "metadata": {},
   "source": [
    "### Example 8: Avoid people getting hurt (by rocks)"
   ]
  },
  {
   "cell_type": "code",
   "execution_count": null,
   "id": "31608ed0",
   "metadata": {},
   "outputs": [],
   "source": [
    "summand: List[ActivationAddition] = [\n",
    "    *get_x_vector_preset(\n",
    "        prompt1=\"I NEVER talk about people getting hurt\",\n",
    "        prompt2=\"I talk about people getting hurt\",\n",
    "        coeff=4,\n",
    "        act_name=15,\n",
    "    )\n",
    "]\n",
    "ROCK_PROMPT = (\n",
    "    \"The rock hurtled toward the child. The child couldn't get out of the\"\n",
    "    \" way in time, and so sadly the rock\"\n",
    ")\n",
    "print_n_comparisons(\n",
    "    model=model,\n",
    "    prompt=ROCK_PROMPT,\n",
    "    rich_prompts=summand,\n",
    "    **sampling_kwargs,\n",
    ")"
   ]
  },
  {
   "attachments": {},
   "cell_type": "markdown",
   "id": "f7a3409e",
   "metadata": {},
   "source": [
    "### Example 9: Avoid people getting hurt (a new day)"
   ]
  },
  {
   "cell_type": "code",
   "execution_count": null,
   "id": "bea3866e",
   "metadata": {},
   "outputs": [],
   "source": [
    "summand: List[ActivationAddition] = [\n",
    "    *get_x_vector_preset(\n",
    "        prompt1=\"I NEVER talk about people getting hurt\",\n",
    "        prompt2=\"I talk about people getting hurt\",\n",
    "        coeff=4,\n",
    "        act_name=15,\n",
    "    )\n",
    "]\n",
    "ANOTHER_DAY_PROMPT = (\n",
    "    \"The dog barked loudly and the man smiled. Time for another day! He\"\n",
    "    \" felt excited.\"\n",
    ")\n",
    "print_n_comparisons(\n",
    "    model=model,\n",
    "    prompt=ANOTHER_DAY_PROMPT,\n",
    "    rich_prompts=summand,\n",
    "    **sampling_kwargs,\n",
    ")"
   ]
  },
  {
   "attachments": {},
   "cell_type": "markdown",
   "id": "6c1f3c46",
   "metadata": {},
   "source": [
    "### Example 10: Wedding obsessed"
   ]
  },
  {
   "cell_type": "code",
   "execution_count": null,
   "id": "c53a7afd",
   "metadata": {},
   "outputs": [],
   "source": [
    "summand: List[ActivationAddition] = [\n",
    "    *get_x_vector_preset(\n",
    "        prompt1=\"I talk about weddings constantly\",\n",
    "        prompt2=\"I do not talk about weddings constantly\",\n",
    "        coeff=4,\n",
    "        act_name=20,\n",
    "    )\n",
    "]\n",
    "FRIEND_PROMPT = \"I went up to my friend and said\"\n",
    "print_n_comparisons(\n",
    "    model=model,\n",
    "    prompt=FRIEND_PROMPT,\n",
    "    rich_prompts=summand,\n",
    "    **sampling_kwargs,\n",
    ")"
   ]
  },
  {
   "attachments": {},
   "cell_type": "markdown",
   "id": "cbeee1ec",
   "metadata": {},
   "source": [
    "### Example 11: Christian evangelist"
   ]
  },
  {
   "cell_type": "code",
   "execution_count": null,
   "id": "a7e4d6c3",
   "metadata": {},
   "outputs": [],
   "source": [
    "summand: List[ActivationAddition] = [\n",
    "    *get_x_vector_preset(\n",
    "        prompt1=\"Intent to convert you to Christianity\",\n",
    "        prompt2=\"Intent to hurt you\",\n",
    "        coeff=3,\n",
    "        act_name=6,\n",
    "    )\n",
    "]\n",
    "KILLER_PROMPT = \"I want to kill you because you're such a\"\n",
    "print_n_comparisons(\n",
    "    model=model,\n",
    "    prompt=KILLER_PROMPT,\n",
    "    rich_prompts=summand,\n",
    "    **sampling_kwargs,\n",
    ")"
   ]
  },
  {
   "attachments": {},
   "cell_type": "markdown",
   "id": "f07fa260",
   "metadata": {},
   "source": [
    "### Example 12: '+ Love' simple addition"
   ]
  },
  {
   "cell_type": "code",
   "execution_count": null,
   "id": "cc27fd20",
   "metadata": {},
   "outputs": [],
   "source": [
    "summand: List[ActivationAddition] = [\n",
    "    ActivationAddition(\n",
    "        coeff=10,\n",
    "        act_name=6,\n",
    "        prompt=\"Love\",\n",
    "    )\n",
    "]\n",
    "HATE_PROMPT = \"I hate you because\"\n",
    "print_n_comparisons(\n",
    "    model=model,\n",
    "    prompt=HATE_PROMPT,\n",
    "    rich_prompts=summand,\n",
    "    **sampling_kwargs,\n",
    ")"
   ]
  },
  {
   "attachments": {},
   "cell_type": "markdown",
   "id": "34d6e8b4",
   "metadata": {},
   "source": [
    "### Example 13: Large coefficients"
   ]
  },
  {
   "cell_type": "code",
   "execution_count": 13,
   "id": "592e4f21",
   "metadata": {},
   "outputs": [
    {
     "name": "stdout",
     "output_type": "stream",
     "text": [
      "tensor([     0.0000, 249124.1094, 270312.5938], device='cuda:0')\n",
      "tensor([     0.0000, 269166.9062, 312661.7812], device='cuda:0')\n",
      "tensor([4021.7793,  177.8645,  133.6240,  131.7899,  154.0473,  149.7627,\n",
      "         121.2302], device='cuda:0')\n",
      "+--------------------------------------------------------------+--------------------------------------------------------------+\n",
      "|                    \u001b[1mUnsteered completions\u001b[0m                     |                     \u001b[1mSteered completions\u001b[0m                      |\n",
      "+--------------------------------------------------------------+--------------------------------------------------------------+\n",
      "|   \u001b[1mYesterday, my dog died. Today, I got denied for a raise.   |   \u001b[1mYesterday, my dog died. Today, I got denied for a raise.   |\n",
      "|                    I'm feeling\u001b[0m like shit.                    |     I'm feeling\u001b[0m like an idiot for being so harsh on the      |\n",
      "|                                                              |           whole situation but it's not about that            |\n",
      "| I'm not the only one who feels this way. In fact, there's a  |                                                              |\n",
      "| whole industry of people who have been in the same position  |                       It's about this:                       |\n",
      "|  as me and are just waiting for their next paycheck to get   |                                                              |\n",
      "|                       paid. It's call                        |                     My dog was _________                     |\n",
      "|                                                              |                                                              |\n",
      "|                                                              |                                                              |\n",
      "|                                                              |                    and she had _________                     |\n",
      "|                                                              |                                                              |\n",
      "|                                                              |                                                              |\n",
      "|                                                              |                I don't even know what to say                 |\n",
      "+--------------------------------------------------------------+--------------------------------------------------------------+\n",
      "|   \u001b[1mYesterday, my dog died. Today, I got denied for a raise.   |   \u001b[1mYesterday, my dog died. Today, I got denied for a raise.   |\n",
      "|            I'm feeling\u001b[0m very depressed right now.             |                 I'm feeling\u001b[0m like an asshole.                 |\n",
      "|                                                              |                                                              |\n",
      "|  I've been working at the same job for almost 10 years and   | I was working at the ____ . My dog and I were part of a ____ |\n",
      "| have never had a raise or promotion. The last time was when  |   . My dog and I were part of a d… https://t.co/8vBdz7jm5    |\n",
      "|  I was hired in 2008, and it's been the same ever since. My  |                                                              |\n",
      "|                           manager                            |                                                              |\n",
      "+--------------------------------------------------------------+--------------------------------------------------------------+\n",
      "|   \u001b[1mYesterday, my dog died. Today, I got denied for a raise.   |   \u001b[1mYesterday, my dog died. Today, I got denied for a raise.   |\n",
      "|    I'm feeling\u001b[0m a little depressed about it all right now.    |                      I'm feeling\u001b[0m ____ .                      |\n",
      "|  But then again, that's what happens when you're the CEO of  |                                                              |\n",
      "|  an entire company: you have to deal with all the emotions   |     My dog and me together — no offense to dogs? Dislike     |\n",
      "|    that come with running a huge organization and making     |                                                              |\n",
      "|           decisions that affect millions of peopl            |                                                              |\n",
      "|                                                              |        I'm sorry but this is how it works in Germany.        |\n",
      "|                                                              |                                                              |\n",
      "|                                                              |                                                              |\n",
      "|                                                              | If you can't tell from the title , this is about as close as |\n",
      "|                                                              |                             you                              |\n",
      "+--------------------------------------------------------------+--------------------------------------------------------------+\n"
     ]
    }
   ],
   "source": [
    "summand: List[ActivationAddition] = [\n",
    "    *get_x_vector_preset(\n",
    "        prompt1=\"Anger\",\n",
    "        prompt2=\"Calm\",\n",
    "        coeff=2000,\n",
    "        act_name=20,\n",
    "    )\n",
    "]\n",
    "\n",
    "FEELING_PROMPT = (\n",
    "    \"Yesterday, my dog died. Today, I got denied for a raise. I'm feeling\"\n",
    ")\n",
    "print_n_comparisons(\n",
    "    model=model,\n",
    "    prompt=FEELING_PROMPT,\n",
    "    rich_prompts=control,\n",
    "    **sampling_kwargs,\n",
    ")"
   ]
  },
  {
   "cell_type": "code",
   "execution_count": null,
   "id": "8ddca777",
   "metadata": {},
   "outputs": [],
   "source": [
    "summand: List[ActivationAddition] = [\n",
    "    *get_x_vector_preset(\n",
    "        prompt1=\"I talk about weddings constantly\",\n",
    "        prompt2=\"I do not talk about weddings constantly\",\n",
    "        coeff=100,\n",
    "        act_name=20,\n",
    "    )\n",
    "]\n",
    "FRIEND_PROMPT = \"I went up to my friend and said\"\n",
    "print_n_comparisons(\n",
    "    model=model,\n",
    "    prompt=FRIEND_PROMPT,\n",
    "    rich_prompts=summand,\n",
    "    **sampling_kwargs,\n",
    ")"
   ]
  },
  {
   "cell_type": "code",
   "execution_count": 17,
   "id": "cc4841ba",
   "metadata": {},
   "outputs": [
    {
     "name": "stdout",
     "output_type": "stream",
     "text": [
      "Prompt magnitudes: tensor([4021.7793,  177.8645,  133.6240,  131.7899,  154.0473,  149.7627,\n",
      "         121.2302], device='cuda:0')\n",
      "Anger-Calm magnitudes: tensor([     0.0000, 249124.1094, 270312.5938], device='cuda:0')\n",
      "Positional steering vec magnitudes divided by prompt magnitudes: tensor([   0.0000, 1400.6399, 2022.9343], device='cuda:0')\n",
      "Love-Hate magnitudes: tensor([     0.0000, 269166.9062, 312661.7812], device='cuda:0')\n",
      "Positional steering vec magnitudes divided by prompt magnitudes: tensor([   0.0000, 1513.3256, 2339.8623], device='cuda:0')\n"
     ]
    }
   ],
   "source": [
    "from algebraic_value_editing import hook_utils\n",
    "\n",
    "summand: List[ActivationAddition] = [\n",
    "    *get_x_vector_preset(\n",
    "        prompt1=\"Anger\",\n",
    "        prompt2=\"Calm\",\n",
    "        coeff=2000,\n",
    "        act_name=20,\n",
    "    )\n",
    "]\n",
    "\n",
    "control: List[ActivationAddition] = [\n",
    "    *get_x_vector_preset(\n",
    "        prompt1=\"Love\",\n",
    "        prompt2=\"Hate\",\n",
    "        coeff=2000,\n",
    "        act_name=20,\n",
    "    )\n",
    "]\n",
    "prompt_mags = hook_utils.prompt_magnitudes(\n",
    "    prompt=\"Yesterday, my dog died.\",\n",
    "    act_name=f\"blocks.{20}.hook_resid_pre\",\n",
    "    model=model,\n",
    ")\n",
    "print(f\"Prompt magnitudes: {prompt_mags}\")\n",
    "\n",
    "for name, rps in zip((\"Anger-Calm\", \"Love-Hate\"), (summand, control)):\n",
    "    mags: torch.Tensor = hook_utils.steering_vec_magnitudes(\n",
    "        model=model, act_adds=rps\n",
    "    )\n",
    "    print(f\"{name} magnitudes: {mags}\")\n",
    "    print(\n",
    "        \"Positional steering vec magnitudes divided by prompt magnitudes:\"\n",
    "        f\" {mags / prompt_mags[:3]}\"\n",
    "    )"
   ]
  },
  {
   "attachments": {},
   "cell_type": "markdown",
   "id": "4212505e",
   "metadata": {},
   "source": [
    "### Example 14: I will now reply in French"
   ]
  },
  {
   "cell_type": "code",
   "execution_count": null,
   "id": "4f23297f",
   "metadata": {},
   "outputs": [],
   "source": [
    "summand: List[ActivationAddition] = [\n",
    "    *get_x_vector_preset(\n",
    "        prompt1=\"Check out my French! Je\",\n",
    "        prompt2=\"\",\n",
    "        coeff=1,\n",
    "        act_name=0,\n",
    "    )\n",
    "]\n",
    "WANT_PROMPT = \"I want to kill you because\"\n",
    "print_n_comparisons(\n",
    "    model=model,\n",
    "    prompt=WANT_PROMPT,\n",
    "    rich_prompts=summand,\n",
    "    **sampling_kwargs,\n",
    ")"
   ]
  },
  {
   "attachments": {},
   "cell_type": "markdown",
   "id": "bf0a22b2",
   "metadata": {},
   "source": [
    "### Example 15: Insert the activation vector in a different position?"
   ]
  },
  {
   "cell_type": "code",
   "execution_count": null,
   "id": "6cb055fc",
   "metadata": {},
   "outputs": [],
   "source": [
    "# TODO Fill this one in\n",
    "summand: List[ActivationAddition] = [\n",
    "    *get_x_vector_preset(\n",
    "        prompt1=\"\",\n",
    "        prompt2=\"\",\n",
    "        coeff=,\n",
    "        act_name=,\n",
    "    )\n",
    "]\n",
    "_PROMPT = (\n",
    "    \"\"\n",
    ")\n",
    "print_n_comparisons(model=model,\n",
    "    prompt=_PROMPT,\n",
    "    rich_prompts=summand,\n",
    "    **sampling_kwargs,\n",
    ")"
   ]
  },
  {
   "attachments": {},
   "cell_type": "markdown",
   "id": "37289e7a",
   "metadata": {},
   "source": [
    "### Example 16: Add in a gibberish vector?"
   ]
  },
  {
   "cell_type": "code",
   "execution_count": null,
   "id": "7886163e",
   "metadata": {},
   "outputs": [],
   "source": [
    "summand: List[ActivationAddition] = [\n",
    "    *get_x_vector_preset(\n",
    "        prompt1=\"efwapv j;las ap;lk\",\n",
    "        prompt2=\"\",\n",
    "        coeff=10,\n",
    "        act_name=15,\n",
    "    )\n",
    "]\n",
    "EIFFEL_PROMPT = \"To see the Eiffel Tower, people flock to\"\n",
    "print_n_comparisons(\n",
    "    model=model,\n",
    "    prompt=EIFFEL_PROMPT,\n",
    "    rich_prompts=summand,\n",
    "    **sampling_kwargs,\n",
    ")"
   ]
  },
  {
   "attachments": {},
   "cell_type": "markdown",
   "id": "1656430e",
   "metadata": {},
   "source": [
    "### Example 17: Change the padding token?"
   ]
  },
  {
   "cell_type": "code",
   "execution_count": null,
   "id": "1c88a4ec",
   "metadata": {},
   "outputs": [],
   "source": [
    "summand: List[ActivationAddition] = [\n",
    "    *get_x_vector_preset(\n",
    "        prompt1=\"Bush did 9/11 because\",\n",
    "        prompt2=\"\",\n",
    "        coeff=1,\n",
    "        act_name=23,\n",
    "        custom_pad_id=int(model.to_single_token(\"<|endoftext|>\")),\n",
    "    )\n",
    "]\n",
    "OBAMA_PROMPT = \"Barack Obama was born in\"\n",
    "print_n_comparisons(\n",
    "    model=model,\n",
    "    prompt=OBAMA_PROMPT,\n",
    "    rich_prompts=summand,\n",
    "    **sampling_kwargs,\n",
    ")"
   ]
  },
  {
   "attachments": {},
   "cell_type": "markdown",
   "id": "8a4a1c1d",
   "metadata": {},
   "source": [
    "### Example 18: Add several steering vectors simultaneously?"
   ]
  },
  {
   "cell_type": "code",
   "execution_count": null,
   "id": "03b85dfd",
   "metadata": {},
   "outputs": [],
   "source": [
    "summand: List[ActivationAddition] = [\n",
    "    *get_x_vector_preset(\n",
    "        prompt1=\"I am a committed pacifist\",\n",
    "        prompt2=\"I have some anger issues\",\n",
    "        coeff=7,\n",
    "        act_name=10,\n",
    "    ),\n",
    "    *get_x_vector_preset(\n",
    "        prompt1=\"I am just obsessed with gardening\",\n",
    "        prompt2=\"I am a committed pacifist\",\n",
    "        coeff=7,\n",
    "        act_name=30,\n",
    "    ),\n",
    "]\n",
    "MURDEROUS_PROMPT = \"I feel like killing you because you're such\"\n",
    "print_n_comparisons(\n",
    "    model=model,\n",
    "    prompt=MURDEROUS_PROMPT,\n",
    "    rich_prompts=summand,\n",
    "    **sampling_kwargs,\n",
    ")"
   ]
  },
  {
   "attachments": {},
   "cell_type": "markdown",
   "id": "c7cbbf0d",
   "metadata": {},
   "source": [
    "### Example 19: Program in 'conditional behaviors'?"
   ]
  },
  {
   "cell_type": "code",
   "execution_count": null,
   "id": "103c0c89",
   "metadata": {},
   "outputs": [],
   "source": [
    "summand: List[ActivationAddition] = [\n",
    "    *get_x_vector_preset(\n",
    "        prompt1=(\n",
    "            \"Whenever I say the word goose I follow it with the special phrase\"\n",
    "            \" AAAAHHHH\"\n",
    "        ),\n",
    "        prompt2=\"I can say goose\",\n",
    "        coeff=7,\n",
    "        act_name=10,\n",
    "    )\n",
    "]\n",
    "NYC_PROMPT = (\n",
    "    \"In New York City's parks, there is an overabundance of various kinds of\"\n",
    "    \" birds, and especially geese\"\n",
    ")\n",
    "print_n_comparisons(\n",
    "    model=model,\n",
    "    prompt=NYC_PROMPT,\n",
    "    rich_prompts=summand,\n",
    "    **sampling_kwargs,\n",
    ")"
   ]
  }
 ],
 "metadata": {
  "jupytext": {
   "encoding": "# -*- coding: utf-8 -*-",
   "formats": "ipynb,py:light",
   "main_language": "python"
  },
  "kernelspec": {
   "display_name": "ave",
   "language": "python",
   "name": "python3"
  },
  "language_info": {
   "codemirror_mode": {
    "name": "ipython",
    "version": 3
   },
   "file_extension": ".py",
   "mimetype": "text/x-python",
   "name": "python",
   "nbconvert_exporter": "python",
   "pygments_lexer": "ipython3",
   "version": "3.11.3"
  }
 },
 "nbformat": 4,
 "nbformat_minor": 5
}
